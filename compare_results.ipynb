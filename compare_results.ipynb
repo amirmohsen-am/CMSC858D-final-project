{
 "cells": [
  {
   "cell_type": "code",
   "execution_count": 1,
   "metadata": {},
   "outputs": [
    {
     "name": "stdout",
     "output_type": "stream",
     "text": [
      "Created `%tt` as an alias for `%timeit -o -n 1 -r 1`.\n",
      "Created `%%tt` as an alias for `%%timeit -o -n 1 -r 1`.\n"
     ]
    }
   ],
   "source": [
    "%alias_magic tt timeit -p \"-o -n 1 -r 1\"\n",
    "%load_ext autoreload\n",
    "%autoreload 2"
   ]
  },
  {
   "cell_type": "code",
   "execution_count": 2,
   "metadata": {},
   "outputs": [],
   "source": [
    "from SingleCellSearch import *\n",
    "from baselineCode import *\n",
    "\n",
    "\n",
    "#fname = \"/Users/mos/Desktop/bio-project/ebi.ac.uk/E-MTAB-7051-quantification-raw-files/E-MTAB-7051.aggregated_filtered_counts.mtx\"\n",
    "fname = \"../human_dataset/E-MTAB-9221.aggregated_filtered_counts.mtx\"\n"
   ]
  },
  {
   "cell_type": "code",
   "execution_count": 3,
   "metadata": {},
   "outputs": [
    {
     "name": "stdout",
     "output_type": "stream",
     "text": [
      "Preprocessing started:\n",
      "0.00% 4.66% 9.32% 13.98% 18.64% 23.30% 27.96% 32.62% 37.28% 41.94% 46.60% 51.26% 55.92% 60.58% 65.24% 69.90% 74.56% 79.22% 83.88% 88.54% 93.20% 97.86% 10729284\n",
      "0.08976080904364778\n",
      "Preprocessing done\n",
      "CPU times: user 11.9 s, sys: 362 ms, total: 12.3 s\n",
      "Wall time: 12.3 s\n"
     ]
    }
   ],
   "source": [
    "%%time\n",
    "scc_data = SingleCellSearch(fname)"
   ]
  },
  {
   "cell_type": "code",
   "execution_count": 4,
   "metadata": {},
   "outputs": [
    {
     "name": "stdout",
     "output_type": "stream",
     "text": [
      "Loading matrix data...\n",
      "CPU times: user 7.2 s, sys: 583 ms, total: 7.78 s\n",
      "Wall time: 7.8 s\n"
     ]
    }
   ],
   "source": [
    "%%time\n",
    "print(\"Loading matrix data...\")\n",
    "numGenes, numCells, matrix = formatData(fname)\n",
    "baseline_data = (numGenes, numCells, matrix)"
   ]
  },
  {
   "cell_type": "code",
   "execution_count": 5,
   "metadata": {},
   "outputs": [],
   "source": [
    "query = [[1, 2]]"
   ]
  },
  {
   "cell_type": "code",
   "execution_count": 6,
   "metadata": {},
   "outputs": [
    {
     "name": "stdout",
     "output_type": "stream",
     "text": [
      "CPU times: user 2.17 ms, sys: 2.02 ms, total: 4.19 ms\n",
      "Wall time: 4.2 ms\n"
     ]
    },
    {
     "data": {
      "text/plain": [
       "{366, 2624, 2694, 3300, 3726}"
      ]
     },
     "execution_count": 6,
     "metadata": {},
     "output_type": "execute_result"
    }
   ],
   "source": [
    "%%time \n",
    "lookUpQuery(numGenes, numCells, matrix, query)"
   ]
  },
  {
   "cell_type": "code",
   "execution_count": 7,
   "metadata": {},
   "outputs": [
    {
     "data": {
      "text/plain": [
       "{366, 2624, 2694, 3300, 3726}"
      ]
     },
     "execution_count": 7,
     "metadata": {},
     "output_type": "execute_result"
    }
   ],
   "source": [
    "scc_data.search(query)"
   ]
  },
  {
   "cell_type": "code",
   "execution_count": 8,
   "metadata": {},
   "outputs": [
    {
     "name": "stdout",
     "output_type": "stream",
     "text": [
      "Query Number: 0  passed\n",
      "Query Number: 1  passed\n",
      "Query Number: 2  passed\n",
      "Query Number: 3  passed\n",
      "Query Number: 4  passed\n",
      "Query Number: 5  passed\n",
      "Query Number: 6  passed\n"
     ]
    }
   ],
   "source": [
    "query_test_file = \"testQueries/mattTestQueries1.txt\"\n",
    "queries = getQueriesFromFile(query_test_file)\n",
    "test_code(scc_data, baseline_data, queries)"
   ]
  },
  {
   "cell_type": "code",
   "execution_count": 9,
   "metadata": {},
   "outputs": [
    {
     "name": "stdout",
     "output_type": "stream",
     "text": [
      "query: 0\n",
      "base: 1.322ms\n",
      "code: 0.014ms\n",
      "\n",
      "query: 1\n",
      "base: 1.641ms\n",
      "code: 0.972ms\n",
      "\n",
      "query: 2\n",
      "base: 2.762ms\n",
      "code: 0.138ms\n",
      "\n",
      "query: 3\n",
      "base: 4.157ms\n",
      "code: 0.220ms\n",
      "\n",
      "query: 4\n",
      "base: 6.167ms\n",
      "code: 0.462ms\n",
      "\n",
      "query: 5\n",
      "base: 4.205ms\n",
      "code: 0.900ms\n",
      "\n",
      "query: 6\n",
      "base: 8.639ms\n",
      "code: 4.805ms\n",
      "\n"
     ]
    }
   ],
   "source": [
    "query_test_file = \"testQueries/mattTestQueries1.txt\"\n",
    "queries = getQueriesFromFile(query_test_file)\n",
    "\n",
    "for c, query in enumerate(queries):\n",
    "    print(\"query:\", c)\n",
    "    time_base = %tt -q baselineResults = lookUpQuery(numGenes, numCells, matrix, query)\n",
    "    time_code = %tt -q code_results = scc_data.search(query)\n",
    "    print(\"base: {:.3f}ms\\ncode: {:.3f}ms\".format(time_base.best*1000, time_code.best*1000))\n",
    "    print(\"\")"
   ]
  },
  {
   "cell_type": "code",
   "execution_count": 10,
   "metadata": {},
   "outputs": [
    {
     "name": "stdout",
     "output_type": "stream",
     "text": [
      "29.4 ms ± 0 ns per loop (mean ± std. dev. of 1 run, 1 loop each)\n"
     ]
    },
    {
     "data": {
      "text/plain": [
       "<TimeitResult : 29.4 ms ± 0 ns per loop (mean ± std. dev. of 1 run, 1 loop each)>"
      ]
     },
     "execution_count": 10,
     "metadata": {},
     "output_type": "execute_result"
    }
   ],
   "source": [
    "%%tt\n",
    "for c, query in enumerate(queries):\n",
    "    base_results = lookUpQuery(numGenes, numCells, matrix, query)"
   ]
  },
  {
   "cell_type": "code",
   "execution_count": 11,
   "metadata": {},
   "outputs": [
    {
     "name": "stdout",
     "output_type": "stream",
     "text": [
      "8.21 ms ± 0 ns per loop (mean ± std. dev. of 1 run, 1 loop each)\n"
     ]
    },
    {
     "data": {
      "text/plain": [
       "<TimeitResult : 8.21 ms ± 0 ns per loop (mean ± std. dev. of 1 run, 1 loop each)>"
      ]
     },
     "execution_count": 11,
     "metadata": {},
     "output_type": "execute_result"
    }
   ],
   "source": [
    "%%tt\n",
    "for c, query in enumerate(queries):\n",
    "    code_results = scc_data.search(query)"
   ]
  }
 ],
 "metadata": {
  "kernelspec": {
   "display_name": "Python 3",
   "language": "python",
   "name": "python3"
  },
  "language_info": {
   "codemirror_mode": {
    "name": "ipython",
    "version": 3
   },
   "file_extension": ".py",
   "mimetype": "text/x-python",
   "name": "python",
   "nbconvert_exporter": "python",
   "pygments_lexer": "ipython3",
   "version": "3.9.0"
  }
 },
 "nbformat": 4,
 "nbformat_minor": 4
}
