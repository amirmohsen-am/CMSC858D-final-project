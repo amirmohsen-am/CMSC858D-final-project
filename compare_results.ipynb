{
 "cells": [
  {
   "cell_type": "code",
   "execution_count": 1,
   "metadata": {},
   "outputs": [
    {
     "name": "stdout",
     "output_type": "stream",
     "text": [
      "Created `%tt` as an alias for `%timeit -q -o -n 1 -r 1`.\n",
      "Created `%%tt` as an alias for `%%timeit -q -o -n 1 -r 1`.\n"
     ]
    }
   ],
   "source": [
    "%alias_magic tt timeit -p \"-q -o -n 1 -r 1\"\n",
    "%load_ext autoreload\n",
    "%autoreload 2"
   ]
  },
  {
   "cell_type": "code",
   "execution_count": 2,
   "metadata": {},
   "outputs": [],
   "source": [
    "from SingleCellSearch import *\n",
    "from baselineCode import *\n",
    "\n",
    "\n",
    "#fname = \"/Users/mos/Desktop/bio-project/ebi.ac.uk/E-MTAB-7051-quantification-raw-files/E-MTAB-7051.aggregated_filtered_counts.mtx\"\n",
    "fname = \"../human_dataset/E-MTAB-9221.aggregated_filtered_counts.mtx\"\n"
   ]
  },
  {
   "cell_type": "code",
   "execution_count": 3,
   "metadata": {},
   "outputs": [
    {
     "name": "stdout",
     "output_type": "stream",
     "text": [
      "Preprocessing started:\n",
      "0.00% 4.66% 9.32% 13.98% 18.64% 23.30% 27.96% 32.62% 37.28% 41.94% 46.60% 51.26% 55.92% 60.58% 65.24% 69.90% 74.56% 79.22% 83.88% 88.54% 93.20% 97.86% 10729284\n",
      "0.08976080904364778\n",
      "Preprocessing done\n",
      "CPU times: user 11.6 s, sys: 287 ms, total: 11.8 s\n",
      "Wall time: 11.8 s\n"
     ]
    }
   ],
   "source": [
    "%%time\n",
    "scc_data = SingleCellSearch(fname)"
   ]
  },
  {
   "cell_type": "code",
   "execution_count": null,
   "metadata": {},
   "outputs": [
    {
     "name": "stdout",
     "output_type": "stream",
     "text": [
      "Loading matrix data...\n"
     ]
    }
   ],
   "source": [
    "%%time\n",
    "print(\"Loading matrix data...\")\n",
    "numGenes, numCells, matrix = formatData(fname)\n",
    "baseline_data = (numGenes, numCells, matrix)"
   ]
  },
  {
   "cell_type": "code",
   "execution_count": null,
   "metadata": {},
   "outputs": [],
   "source": [
    "query = [[1, 2]]"
   ]
  },
  {
   "cell_type": "code",
   "execution_count": null,
   "metadata": {},
   "outputs": [],
   "source": [
    "%%time \n",
    "lookUpQuery(numGenes, numCells, matrix, query)"
   ]
  },
  {
   "cell_type": "code",
   "execution_count": null,
   "metadata": {},
   "outputs": [],
   "source": [
    "scc_data.search(query)"
   ]
  },
  {
   "cell_type": "code",
   "execution_count": null,
   "metadata": {},
   "outputs": [],
   "source": [
    "query_test_file = \"testQueries/mattTestQueries1.txt\"\n",
    "queries = getQueriesFromFile(query_test_file)\n",
    "test_code(scc_data, baseline_data, queries)"
   ]
  },
  {
   "cell_type": "code",
   "execution_count": null,
   "metadata": {},
   "outputs": [],
   "source": [
    "query_test_file = \"testQueries/mattTestQueries1.txt\"\n",
    "queries = getQueriesFromFile(query_test_file)\n",
    "\n",
    "for c, query in enumerate(queries):\n",
    "    print(\"query:\", c)\n",
    "    time_base = %tt baselineResults = lookUpQuery(numGenes, numCells, matrix, query)\n",
    "    time_code = %tt code_results = scc_data.search(query)\n",
    "    print(\"base: {:.3f}ms\\ncode: {:.3f}ms\".format(time_base.best*1000, time_code.best*1000))"
   ]
  }
 ],
 "metadata": {
  "kernelspec": {
   "display_name": "Python 3",
   "language": "python",
   "name": "python3"
  },
  "language_info": {
   "codemirror_mode": {
    "name": "ipython",
    "version": 3
   },
   "file_extension": ".py",
   "mimetype": "text/x-python",
   "name": "python",
   "nbconvert_exporter": "python",
   "pygments_lexer": "ipython3",
   "version": "3.9.0"
  }
 },
 "nbformat": 4,
 "nbformat_minor": 4
}
