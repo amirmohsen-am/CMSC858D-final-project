{
 "cells": [
  {
   "cell_type": "code",
   "execution_count": 1,
   "metadata": {},
   "outputs": [
    {
     "name": "stdout",
     "output_type": "stream",
     "text": [
      "Created `%tt` as an alias for `%timeit -o -n 2 -r 2`.\n",
      "Created `%%tt` as an alias for `%%timeit -o -n 2 -r 2`.\n"
     ]
    }
   ],
   "source": [
    "%alias_magic tt timeit -p \"-o -n 2 -r 2\"\n",
    "%load_ext autoreload\n",
    "%autoreload 2"
   ]
  },
  {
   "cell_type": "code",
   "execution_count": 36,
   "metadata": {},
   "outputs": [],
   "source": [
    "from SingleCellSearch import *\n",
    "from baselineCode import *\n",
    "from testQueries.generate_query import randomQuery\n",
    "\n",
    "#fname = \"../human_dataset/E-MTAB-9221.aggregated_filtered_counts.mtx\"\n",
    "fname = \"../fly_dataset/E-CURD-21.aggregated_filtered_counts.mtx\""
   ]
  },
  {
   "cell_type": "code",
   "execution_count": 38,
   "metadata": {},
   "outputs": [
    {
     "name": "stdout",
     "output_type": "stream",
     "text": [
      "Preprocessing started:\n",
      "0.00% 17.14% 34.28% 51.42% 68.56% 85.69% 2917345\n",
      "0.37947095491411403\n",
      "Calculating hamming distance:\n",
      "1.05% 2.10% 3.16% 4.21% 5.26% 6.31% 7.37% 8.42% 9.47% 10.52% 11.57% 12.63% 13.68% 14.73% 15.78% 16.84% 17.89% 18.94% 19.99% 21.04% 22.10% 23.15% 24.20% 25.25% 26.30% 27.36% 28.41% 29.46% 30.51% 31.57% 32.62% 33.67% 34.72% 35.77% 36.83% 37.88% 38.93% 39.98% 41.04% 42.09% 43.14% 44.19% 45.24% 46.30% 47.35% 48.40% 49.45% 50.51% 51.56% 52.61% 53.66% 54.71% 55.77% 56.82% 57.87% 58.92% 59.97% 61.03% 62.08% 63.13% 64.18% 65.24% 66.29% 67.34% 68.39% 69.44% 70.50% 71.55% 72.60% 73.65% 74.71% 75.76% 76.81% 77.86% 78.91% 79.97% 81.02% 82.07% 83.12% 84.18% 85.23% 86.28% 87.33% 88.38% 89.44% 90.49% 91.54% 92.59% 93.64% 94.70% 95.75% 96.80% 97.85% 98.91% 99.96% hamming distance calculation done\n",
      "Preprocessing done\n",
      "CPU times: user 4min 58s, sys: 1.73 s, total: 5min\n",
      "Wall time: 5min\n"
     ]
    }
   ],
   "source": [
    "%%time\n",
    "scc_data = SingleCellSearch(fname, optimization_level=2)"
   ]
  },
  {
   "cell_type": "code",
   "execution_count": 39,
   "metadata": {},
   "outputs": [
    {
     "name": "stdout",
     "output_type": "stream",
     "text": [
      "Loading matrix data...\n",
      "CPU times: user 2.62 s, sys: 333 ms, total: 2.96 s\n",
      "Wall time: 2.96 s\n"
     ]
    }
   ],
   "source": [
    "%%time\n",
    "print(\"Loading matrix data...\")\n",
    "numGenes, numCells, matrix = formatData(fname)\n",
    "baseline_data = (numGenes, numCells, matrix)"
   ]
  },
  {
   "cell_type": "code",
   "execution_count": 55,
   "metadata": {},
   "outputs": [],
   "source": [
    "numQueries = 10\n",
    "numClauses = 100\n",
    "minClauseSize = 2\n",
    "maxClauseSize = 10\n",
    "\n",
    "query_test_file = \"testQueries/E-MTAB-9221-random-query-small.in\"\n",
    "\n",
    "\n",
    "with open(query_test_file, \"w\") as f:\n",
    "    for q in range(numQueries):\n",
    "        f.write(randomQuery(numGenes, numClauses, minClauseSize, maxClauseSize))\n",
    "        f.write(\"\\n\")\n",
    "\n",
    "\n"
   ]
  },
  {
   "cell_type": "code",
   "execution_count": 56,
   "metadata": {},
   "outputs": [],
   "source": [
    "\n",
    "queries = getQueriesFromFile(query_test_file)\n"
   ]
  },
  {
   "cell_type": "code",
   "execution_count": 57,
   "metadata": {},
   "outputs": [
    {
     "name": "stdout",
     "output_type": "stream",
     "text": [
      "683 ms ± 6.75 ms per loop (mean ± std. dev. of 2 runs, 2 loops each)\n"
     ]
    },
    {
     "data": {
      "text/plain": [
       "<TimeitResult : 683 ms ± 6.75 ms per loop (mean ± std. dev. of 2 runs, 2 loops each)>"
      ]
     },
     "execution_count": 57,
     "metadata": {},
     "output_type": "execute_result"
    }
   ],
   "source": [
    "%%tt\n",
    "for c, query in enumerate(queries):\n",
    "    base_results = lookUpQuery(numGenes, numCells, matrix, query)"
   ]
  },
  {
   "cell_type": "code",
   "execution_count": 69,
   "metadata": {},
   "outputs": [
    {
     "name": "stdout",
     "output_type": "stream",
     "text": [
      "68.3 ms ± 6.58 ms per loop (mean ± std. dev. of 2 runs, 2 loops each)\n"
     ]
    },
    {
     "data": {
      "text/plain": [
       "<TimeitResult : 68.3 ms ± 6.58 ms per loop (mean ± std. dev. of 2 runs, 2 loops each)>"
      ]
     },
     "execution_count": 69,
     "metadata": {},
     "output_type": "execute_result"
    }
   ],
   "source": [
    "%%tt\n",
    "for c, query in enumerate(queries):\n",
    "    code_results = scc_data.search(query, optimization_level=0)"
   ]
  },
  {
   "cell_type": "code",
   "execution_count": 70,
   "metadata": {},
   "outputs": [
    {
     "name": "stdout",
     "output_type": "stream",
     "text": [
      "43.4 ms ± 6.8 ms per loop (mean ± std. dev. of 2 runs, 2 loops each)\n"
     ]
    },
    {
     "data": {
      "text/plain": [
       "<TimeitResult : 43.4 ms ± 6.8 ms per loop (mean ± std. dev. of 2 runs, 2 loops each)>"
      ]
     },
     "execution_count": 70,
     "metadata": {},
     "output_type": "execute_result"
    }
   ],
   "source": [
    "%%tt\n",
    "for c, query in enumerate(queries):\n",
    "    code_results = scc_data.search(query, optimization_level=1)"
   ]
  },
  {
   "cell_type": "code",
   "execution_count": 71,
   "metadata": {},
   "outputs": [
    {
     "name": "stdout",
     "output_type": "stream",
     "text": [
      "48.7 ms ± 7.11 ms per loop (mean ± std. dev. of 2 runs, 2 loops each)\n"
     ]
    },
    {
     "data": {
      "text/plain": [
       "<TimeitResult : 48.7 ms ± 7.11 ms per loop (mean ± std. dev. of 2 runs, 2 loops each)>"
      ]
     },
     "execution_count": 71,
     "metadata": {},
     "output_type": "execute_result"
    }
   ],
   "source": [
    "%%tt\n",
    "for c, query in enumerate(queries):\n",
    "    code_results = scc_data.search(query, optimization_level=2)"
   ]
  }
 ],
 "metadata": {
  "kernelspec": {
   "display_name": "Python 3",
   "language": "python",
   "name": "python3"
  },
  "language_info": {
   "codemirror_mode": {
    "name": "ipython",
    "version": 3
   },
   "file_extension": ".py",
   "mimetype": "text/x-python",
   "name": "python",
   "nbconvert_exporter": "python",
   "pygments_lexer": "ipython3",
   "version": "3.9.0"
  }
 },
 "nbformat": 4,
 "nbformat_minor": 4
}
