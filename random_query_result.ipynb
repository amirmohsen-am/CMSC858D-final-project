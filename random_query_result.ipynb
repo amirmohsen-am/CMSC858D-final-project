{
 "cells": [
  {
   "cell_type": "code",
   "execution_count": 1,
   "metadata": {},
   "outputs": [],
   "source": [
    "%alias_magic tt timeit -p \"-o -n 2 -r 2\"\n",
    "%load_ext autoreload\n",
    "%autoreload 2"
   ]
  },
  {
   "cell_type": "code",
   "execution_count": 2,
   "metadata": {},
   "outputs": [],
   "source": [
    "from SingleCellSearch import *\n",
    "from baselineCode import *\n",
    "from testQueries.generate_query import randomQuery\n",
    "\n",
    "fname = \"../human_dataset/E-MTAB-9221.aggregated_filtered_counts.mtx\"\n"
   ]
  },
  {
   "cell_type": "code",
   "execution_count": 3,
   "metadata": {},
   "outputs": [
    {
     "name": "stdout",
     "output_type": "stream",
     "text": [
      "Preprocessing started:\n",
      "0.00% 4.66% 9.32% 13.98% 18.64% 23.30% 27.96% 32.62% 37.28% 41.94% 46.60% 51.26% 55.92% 60.58% 65.24% 69.90% 74.56% 79.22% 83.88% 88.54% 93.20% 97.86% 10729284\n",
      "0.08976080904364778\n",
      "Preprocessing done\n",
      "CPU times: user 13 s, sys: 347 ms, total: 13.3 s\n",
      "Wall time: 13.5 s\n"
     ]
    }
   ],
   "source": [
    "%%time\n",
    "scc_data = SingleCellSearch(fname)"
   ]
  },
  {
   "cell_type": "code",
   "execution_count": 4,
   "metadata": {},
   "outputs": [
    {
     "name": "stdout",
     "output_type": "stream",
     "text": [
      "Loading matrix data...\n",
      "CPU times: user 7.36 s, sys: 619 ms, total: 7.98 s\n",
      "Wall time: 8.17 s\n"
     ]
    }
   ],
   "source": [
    "%%time\n",
    "print(\"Loading matrix data...\")\n",
    "numGenes, numCells, matrix = formatData(fname)\n",
    "baseline_data = (numGenes, numCells, matrix)"
   ]
  },
  {
   "cell_type": "code",
   "execution_count": 5,
   "metadata": {},
   "outputs": [],
   "source": [
    "numQueries = 100\n",
    "numClauses = 10\n",
    "minClauseSize = 2\n",
    "maxClauseSize = 2\n",
    "\n",
    "query_test_file = \"testQueries/E-MTAB-9221-random-query-small.in\"\n",
    "\n",
    "\n",
    "with open(query_test_file, \"w\") as f:\n",
    "    for q in range(numQueries):\n",
    "        f.write(randomQuery(numGenes, numClauses, minClauseSize, maxClauseSize))\n",
    "        f.write(\"\\n\")\n",
    "\n",
    "\n"
   ]
  },
  {
   "cell_type": "code",
   "execution_count": 6,
   "metadata": {},
   "outputs": [],
   "source": [
    "queries = getQueriesFromFile(query_test_file)\n"
   ]
  },
  {
   "cell_type": "code",
   "execution_count": 7,
   "metadata": {},
   "outputs": [
    {
     "name": "stdout",
     "output_type": "stream",
     "text": [
      "1.85 s ± 23.4 ms per loop (mean ± std. dev. of 2 runs, 2 loops each)\n"
     ]
    },
    {
     "data": {
      "text/plain": [
       "<TimeitResult : 1.85 s ± 23.4 ms per loop (mean ± std. dev. of 2 runs, 2 loops each)>"
      ]
     },
     "execution_count": 7,
     "metadata": {},
     "output_type": "execute_result"
    }
   ],
   "source": [
    "%%tt\n",
    "for c, query in enumerate(queries):\n",
    "    base_results = lookUpQuery(numGenes, numCells, matrix, query)"
   ]
  },
  {
   "cell_type": "code",
   "execution_count": 8,
   "metadata": {},
   "outputs": [
    {
     "name": "stdout",
     "output_type": "stream",
     "text": [
      "465 ms ± 16.1 ms per loop (mean ± std. dev. of 2 runs, 2 loops each)\n"
     ]
    },
    {
     "data": {
      "text/plain": [
       "<TimeitResult : 465 ms ± 16.1 ms per loop (mean ± std. dev. of 2 runs, 2 loops each)>"
      ]
     },
     "execution_count": 8,
     "metadata": {},
     "output_type": "execute_result"
    }
   ],
   "source": [
    "%%tt\n",
    "for c, query in enumerate(queries):\n",
    "    code_results = scc_data.search(query)"
   ]
  }
 ],
 "metadata": {
  "kernelspec": {
   "display_name": "Python 3",
   "language": "python",
   "name": "python3"
  },
  "language_info": {
   "codemirror_mode": {
    "name": "ipython",
    "version": 3
   },
   "file_extension": ".py",
   "mimetype": "text/x-python",
   "name": "python",
   "nbconvert_exporter": "python",
   "pygments_lexer": "ipython3",
   "version": "3.9.0"
  }
 },
 "nbformat": 4,
 "nbformat_minor": 4
}
