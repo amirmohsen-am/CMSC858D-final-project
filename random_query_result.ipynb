{
 "cells": [
  {
   "cell_type": "code",
   "execution_count": 226,
   "metadata": {},
   "outputs": [
    {
     "name": "stdout",
     "output_type": "stream",
     "text": [
      "Created `%tt` as an alias for `%timeit -o -n 3 -r 3`.\n",
      "Created `%%tt` as an alias for `%%timeit -o -n 3 -r 3`.\n",
      "The autoreload extension is already loaded. To reload it, use:\n",
      "  %reload_ext autoreload\n"
     ]
    }
   ],
   "source": [
    "%alias_magic tt timeit -p \"-o -n 3 -r 3\"\n",
    "%load_ext autoreload\n",
    "%autoreload 2"
   ]
  },
  {
   "cell_type": "code",
   "execution_count": 103,
   "metadata": {},
   "outputs": [],
   "source": [
    "from SingleCellSearch import *\n",
    "from baselineCode import *\n",
    "from testQueries.generate_query import randomQuery\n",
    "\n",
    "#fname = \"../human_dataset/E-MTAB-9221.aggregated_filtered_counts.mtx\"\n",
    "fname = \"../fly_dataset/E-CURD-21.aggregated_filtered_counts.mtx\""
   ]
  },
  {
   "cell_type": "code",
   "execution_count": 279,
   "metadata": {},
   "outputs": [
    {
     "name": "stdout",
     "output_type": "stream",
     "text": [
      "Preprocessing started:\n",
      "0.00% 17.14% 34.28% 51.42% 68.56% 85.69% 2917345\n",
      "0.37947095491411403\n",
      "Preprocessing done\n",
      "CPU times: user 3.76 s, sys: 853 ms, total: 4.61 s\n",
      "Wall time: 5.1 s\n"
     ]
    }
   ],
   "source": [
    "%%time\n",
    "scc_data = SingleCellSearch(fname, optimization_level=0, distance_file=\"fly_distances.data\")\n",
    "# scc_data = SingleCellSearch(fname, optimization_level=2)"
   ]
  },
  {
   "cell_type": "code",
   "execution_count": 78,
   "metadata": {},
   "outputs": [
    {
     "name": "stdout",
     "output_type": "stream",
     "text": [
      "Saving distances to fly_distances.data\n",
      "Saving done\n"
     ]
    }
   ],
   "source": [
    "scc_data.save_distances(\"fly_distances.data\")"
   ]
  },
  {
   "cell_type": "code",
   "execution_count": 278,
   "metadata": {},
   "outputs": [
    {
     "name": "stdout",
     "output_type": "stream",
     "text": [
      "Loading matrix data...\n",
      "CPU times: user 1.96 s, sys: 263 ms, total: 2.22 s\n",
      "Wall time: 2.53 s\n"
     ]
    }
   ],
   "source": [
    "%%time\n",
    "print(\"Loading matrix data...\")\n",
    "numGenes, numCells, matrix = formatData(fname)\n",
    "baseline_data = (numGenes, numCells, matrix)"
   ]
  },
  {
   "cell_type": "code",
   "execution_count": null,
   "metadata": {},
   "outputs": [],
   "source": []
  },
  {
   "cell_type": "code",
   "execution_count": 99,
   "metadata": {},
   "outputs": [],
   "source": [
    "numQueries = 10\n",
    "numClauses = 1\n",
    "minClauseSize = 5\n",
    "maxClauseSize = 15\n",
    "\n",
    "query_test_file = \"testQueries/E-CURD-21--random-query-small.in\"\n",
    "\n",
    "\n",
    "with open(query_test_file, \"w\") as f:\n",
    "    for q in range(numQueries):\n",
    "        f.write(randomQuery(numGenes, numClauses, minClauseSize, maxClauseSize))\n",
    "        f.write(\"\\n\")\n",
    "\n",
    "\n"
   ]
  },
  {
   "cell_type": "code",
   "execution_count": 34,
   "metadata": {},
   "outputs": [],
   "source": [
    "# for i in range(-scc_data.numGenes, scc_data.numGenes):\n",
    "#     for j in range(-scc_data.numGenes, scc_data.numGenes):\n",
    "#         if i == j: continue\n",
    "#         dis = scc_data.hamming_distance(i, j)\n",
    "#         if dis < 0:\n",
    "#             print(i, j, dis)\n",
    "#             break"
   ]
  },
  {
   "cell_type": "code",
   "execution_count": 94,
   "metadata": {},
   "outputs": [
    {
     "name": "stdout",
     "output_type": "stream",
     "text": [
      "[[[-1637, -9493, -9475, -9461, -9451, -9435, -9423, -9400, -9365, -9310]], [[-102, -8647, -8307, -7987, -3762, -8856, -8665, -8556, -8461, -8050]], [[4445, 1033, 8609, 1284, 147, 2323, 3876, 436, 856, 1548]], [[5017, 8341, 6675, 2462, 5273, 6343, 3649, 4494, 4534, 4606]], [[6769, -9493, -9475, -9461, -9451, -9435, -9423, -9400, -9365, -9310]], [[-5177, -5566, -7603, -5517, -4629, -1708, -1576, -714, 357, -7808]], [[2064, 4216, -9493, -9475, -9461, -9451, -9435, -9423, -9400, -9365]], [[-2683, -2667, -152, -8988, -6413, -4892, -5041, -7653, -1584, -722]], [[2614, 3629, 402, 3955, 1290, 1952, 9102, 2159, 8495, 9016]], [[-1219, -2050, -1126, 251, 671, 6925, -5359, -5103, 11, 29]]]\n"
     ]
    }
   ],
   "source": [
    "numQueries = 10\n",
    "queries = []\n",
    "for i in range(numQueries):\n",
    "    queries.append(create_meaninfulquery(scc_data, 1, 10))\n",
    "print(queries)\n"
   ]
  },
  {
   "cell_type": "code",
   "execution_count": 122,
   "metadata": {},
   "outputs": [
    {
     "name": "stdout",
     "output_type": "stream",
     "text": [
      "[(499, -8820), (499, -5821), (500, -2838), (501, -7883), (502, -3606), (502, -563), (503, -6236), (504, -1272), (507, -4382)]\n",
      "\n",
      "\n",
      "[[[1846, 1846, 1846, 1846, 1846, 1846, 1846, 1846, 1846, 1846, 1846, 1846, 1846, 1846, 1846, 1846, 1846, 1846, 1846, 1846, 1846, 1846, 1846, 1846, 1846, 1846, 1846, 1846, 1846, 1846, 1846, 1846, 1846, 1846, 1846, 1846, 1846, 1846, 1846, 1846, 1846, 1846, 1846, 1846, 1846, 1846, 1846, 1846, 1846, 1846, 1846, 1846, 1846, 1846, 1846, 1846, 1846, 1846, 1846, 1846, 1846, 1846, 1846, 1846, 1846, 1846, 1846, 1846, 1846, 1846, 1846, 1846, 1846, 1846, 1846, 1846, 1846, 1846, 1846, 1846, 1846, 1846, 1846, 1846, 1846, 1846, 1846, 1846, 1846, 1846, 1846, 1846, 1846, 1846, 1846, 1846, 1846, 1846, 1846, -7658]]]\n"
     ]
    }
   ],
   "source": [
    "numQueries = 1\n",
    "queries = []\n",
    "for i in range(numQueries):\n",
    "    queries.append(create_dumb_query(scc_data, 1, 100))\n",
    "print(\"\\n\")\n",
    "print(queries)\n"
   ]
  },
  {
   "cell_type": "code",
   "execution_count": 124,
   "metadata": {},
   "outputs": [
    {
     "name": "stdout",
     "output_type": "stream",
     "text": [
      "368\n",
      "800\n"
     ]
    }
   ],
   "source": [
    "print(len(scc_data.get_gene(1846)))\n",
    "print(len(scc_data.get_gene(-7658)))"
   ]
  },
  {
   "cell_type": "code",
   "execution_count": 273,
   "metadata": {},
   "outputs": [],
   "source": [
    "file = [\"testQueries/E-CURD-21-random-queries-large-clauses-large-genes.in\",\n",
    "        \"testQueries/E-CURD-21-random-queries-large-clauses-medium-genes.in\",\n",
    "\"testQueries/E-CURD-21-random-queries-large-clauses-small-genes.in\",\n",
    "\"testQueries/E-CURD-21-random-queries-medium-clauses-large-genes.in\",\n",
    "\"testQueries/E-CURD-21-random-queries-medium-clauses-medium-genes.in\",\n",
    "\"testQueries/E-CURD-21-random-queries-medium-clauses-small-genes.in\",\n",
    "\"testQueries/E-CURD-21-random-queries-small-clauses-large-genes.in\",\n",
    "\"testQueries/E-CURD-21-random-queries-small-clauses-medium-genes.in\",\n",
    "\"testQueries/E-CURD-21-random-queries-small-clauses-small-genes.in\"]         \n",
    "queries = getQueriesFromFile(file[0])\n"
   ]
  },
  {
   "cell_type": "code",
   "execution_count": 274,
   "metadata": {},
   "outputs": [
    {
     "name": "stdout",
     "output_type": "stream",
     "text": [
      "2.63 s ± 12.9 ms per loop (mean ± std. dev. of 3 runs, 3 loops each)\n"
     ]
    },
    {
     "data": {
      "text/plain": [
       "<TimeitResult : 2.63 s ± 12.9 ms per loop (mean ± std. dev. of 3 runs, 3 loops each)>"
      ]
     },
     "execution_count": 274,
     "metadata": {},
     "output_type": "execute_result"
    }
   ],
   "source": [
    "%%tt\n",
    "for c, query in enumerate(queries):\n",
    "    base_results = lookUpQuery(numGenes, numCells, matrix, query)"
   ]
  },
  {
   "cell_type": "code",
   "execution_count": 275,
   "metadata": {},
   "outputs": [
    {
     "name": "stdout",
     "output_type": "stream",
     "text": [
      "164 ms ± 6.04 ms per loop (mean ± std. dev. of 3 runs, 3 loops each)\n"
     ]
    },
    {
     "data": {
      "text/plain": [
       "<TimeitResult : 164 ms ± 6.04 ms per loop (mean ± std. dev. of 3 runs, 3 loops each)>"
      ]
     },
     "execution_count": 275,
     "metadata": {},
     "output_type": "execute_result"
    }
   ],
   "source": [
    "%%tt\n",
    "for c, query in enumerate(queries):\n",
    "    code_results = scc_data.search(query, optimization_level=0)"
   ]
  },
  {
   "cell_type": "code",
   "execution_count": 276,
   "metadata": {},
   "outputs": [
    {
     "name": "stdout",
     "output_type": "stream",
     "text": [
      "174 ms ± 3.25 ms per loop (mean ± std. dev. of 3 runs, 3 loops each)\n"
     ]
    },
    {
     "data": {
      "text/plain": [
       "<TimeitResult : 174 ms ± 3.25 ms per loop (mean ± std. dev. of 3 runs, 3 loops each)>"
      ]
     },
     "execution_count": 276,
     "metadata": {},
     "output_type": "execute_result"
    }
   ],
   "source": [
    "%%tt\n",
    "for c, query in enumerate(queries):\n",
    "    code_results = scc_data.search(query, optimization_level=1)"
   ]
  },
  {
   "cell_type": "code",
   "execution_count": 277,
   "metadata": {},
   "outputs": [
    {
     "name": "stdout",
     "output_type": "stream",
     "text": [
      "360 ms ± 19.9 ms per loop (mean ± std. dev. of 3 runs, 3 loops each)\n"
     ]
    },
    {
     "data": {
      "text/plain": [
       "<TimeitResult : 360 ms ± 19.9 ms per loop (mean ± std. dev. of 3 runs, 3 loops each)>"
      ]
     },
     "execution_count": 277,
     "metadata": {},
     "output_type": "execute_result"
    }
   ],
   "source": [
    "%%tt\n",
    "for c, query in enumerate(queries):\n",
    "    code_results = scc_data.search(query, optimization_level=2)\n",
    "#     print(len(code_results))"
   ]
  },
  {
   "cell_type": "code",
   "execution_count": 166,
   "metadata": {},
   "outputs": [
    {
     "data": {
      "text/plain": [
       "9503"
      ]
     },
     "execution_count": 166,
     "metadata": {},
     "output_type": "execute_result"
    }
   ],
   "source": [
    "numGenes\n"
   ]
  }
 ],
 "metadata": {
  "kernelspec": {
   "display_name": "Python 3",
   "language": "python",
   "name": "python3"
  },
  "language_info": {
   "codemirror_mode": {
    "name": "ipython",
    "version": 3
   },
   "file_extension": ".py",
   "mimetype": "text/x-python",
   "name": "python",
   "nbconvert_exporter": "python",
   "pygments_lexer": "ipython3",
   "version": "3.9.0"
  }
 },
 "nbformat": 4,
 "nbformat_minor": 4
}
